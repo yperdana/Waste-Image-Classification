{
  "nbformat": 4,
  "nbformat_minor": 0,
  "metadata": {
    "colab": {
      "name": "Garbage Classification Using ResNet.ipynb",
      "provenance": [],
      "mount_file_id": "1ZAWuff5UsSNS24FW764t63xYXI6HHQrF",
      "authorship_tag": "ABX9TyMGCHr/rVZK7q8NL+7IiVd0",
      "include_colab_link": true
    },
    "kernelspec": {
      "name": "python3",
      "display_name": "Python 3"
    }
  },
  "cells": [
    {
      "cell_type": "markdown",
      "metadata": {
        "id": "view-in-github",
        "colab_type": "text"
      },
      "source": [
        "<a href=\"https://colab.research.google.com/github/yperdana/Waste-Image-Classification/blob/master/Garbage_Classification_Using_ResNet.ipynb\" target=\"_parent\"><img src=\"https://colab.research.google.com/assets/colab-badge.svg\" alt=\"Open In Colab\"/></a>"
      ]
    },
    {
      "cell_type": "markdown",
      "metadata": {
        "id": "7VjR4rUVZ0ET",
        "colab_type": "text"
      },
      "source": [
        "Bangkit Program\n",
        "Waste Classification using ResNet"
      ]
    },
    {
      "cell_type": "code",
      "metadata": {
        "id": "K5zQJSzGZyoQ",
        "colab_type": "code",
        "colab": {}
      },
      "source": [
        "from tensorflow.keras.layers import Dense\n",
        "from tensorflow.keras.models import Sequential"
      ],
      "execution_count": 8,
      "outputs": []
    },
    {
      "cell_type": "markdown",
      "metadata": {
        "id": "AFLo8vpCaZwx",
        "colab_type": "text"
      },
      "source": [
        "Building The Model"
      ]
    },
    {
      "cell_type": "code",
      "metadata": {
        "id": "yzbdx2l3Z09Z",
        "colab_type": "code",
        "colab": {}
      },
      "source": [
        "from tensorflow.keras.applications.resnet50 import ResNet50, preprocess_input"
      ],
      "execution_count": 9,
      "outputs": []
    },
    {
      "cell_type": "code",
      "metadata": {
        "id": "SKsQmB_faJZP",
        "colab_type": "code",
        "colab": {}
      },
      "source": [
        "num_class = 6\n",
        "\n",
        "model = Sequential([ResNet50(include_top=False,\n",
        "                             weights='imagenet',\n",
        "                             pooling='avg'),\n",
        "                    Dense(num_class, activation='softmax')])\n",
        "\n",
        "model.layers[0].trainable = False\n"
      ],
      "execution_count": 11,
      "outputs": []
    },
    {
      "cell_type": "code",
      "metadata": {
        "id": "PwATxx4PaOpD",
        "colab_type": "code",
        "colab": {}
      },
      "source": [
        "from tensorflow.keras.optimizers import SGD\n"
      ],
      "execution_count": 10,
      "outputs": []
    },
    {
      "cell_type": "code",
      "metadata": {
        "id": "dotZI-2NaSyd",
        "colab_type": "code",
        "colab": {
          "base_uri": "https://localhost:8080/",
          "height": 221
        },
        "outputId": "0372cadd-9bbd-45a6-9bff-f13cc05da2f1"
      },
      "source": [
        "lr = 0.01\n",
        "momentum = 0.001\n",
        "opt = SGD(learning_rate=lr, momentum=momentum)\n",
        "\n",
        "model.compile(optimizer=opt,\n",
        "              loss='categorical_crossentropy',\n",
        "              metrics=['accuracy'])\n",
        "\n",
        "model.summary()"
      ],
      "execution_count": 12,
      "outputs": [
        {
          "output_type": "stream",
          "text": [
            "Model: \"sequential_1\"\n",
            "_________________________________________________________________\n",
            "Layer (type)                 Output Shape              Param #   \n",
            "=================================================================\n",
            "resnet50 (Model)             (None, 2048)              23587712  \n",
            "_________________________________________________________________\n",
            "dense_1 (Dense)              (None, 6)                 12294     \n",
            "=================================================================\n",
            "Total params: 23,600,006\n",
            "Trainable params: 12,294\n",
            "Non-trainable params: 23,587,712\n",
            "_________________________________________________________________\n"
          ],
          "name": "stdout"
        }
      ]
    },
    {
      "cell_type": "markdown",
      "metadata": {
        "id": "dCfWZGS7afdi",
        "colab_type": "text"
      },
      "source": [
        "Load Dataset"
      ]
    },
    {
      "cell_type": "code",
      "metadata": {
        "id": "RDLirzwualGs",
        "colab_type": "code",
        "colab": {
          "base_uri": "https://localhost:8080/",
          "height": 51
        },
        "outputId": "b328febd-14da-4229-a514-1d5d0d12ae1f"
      },
      "source": [
        "from keras.preprocessing.image import ImageDataGenerator\n",
        "\n",
        "data_path = \"/content/drive/My Drive/Bangk!t/Training Data/Final Project\"\n",
        "\n",
        "data_generator = ImageDataGenerator(preprocessing_function=preprocess_input)\n",
        "\n",
        "img_shape = 224\n",
        "train_gen = data_generator.flow_from_directory(data_path + '/train',\n",
        "                                               target_size=(img_shape, img_shape),\n",
        "                                               batch_size=64,\n",
        "                                               class_mode='categorical')\n",
        "\n",
        "val_gen = data_generator.flow_from_directory(data_path + '/valid',\n",
        "                                             target_size=(img_shape, img_shape),\n",
        "                                             batch_size=1,\n",
        "                                             class_mode='categorical',\n",
        "                                             shuffle=False)"
      ],
      "execution_count": 13,
      "outputs": [
        {
          "output_type": "stream",
          "text": [
            "Found 2291 images belonging to 6 classes.\n",
            "Found 211 images belonging to 6 classes.\n"
          ],
          "name": "stdout"
        }
      ]
    },
    {
      "cell_type": "markdown",
      "metadata": {
        "id": "LAb8MEY_y85p",
        "colab_type": "text"
      },
      "source": [
        "Train the Model\n"
      ]
    },
    {
      "cell_type": "code",
      "metadata": {
        "id": "IWC2KehZy_Qm",
        "colab_type": "code",
        "colab": {
          "base_uri": "https://localhost:8080/",
          "height": 1000
        },
        "outputId": "d1e700ad-ba98-4e33-9142-7f3831bb3858"
      },
      "source": [
        "from tensorflow.keras.callbacks import ModelCheckpoint\n",
        "\n",
        "n_epoch = 30\n",
        "\n",
        "model_name = 'resnet50_batch64_sgd01m001'\n",
        "checkpoint = ModelCheckpoint('./' +  model_name + '.h5',\n",
        "                             monitor='val_loss',\n",
        "                             save_best_only=True,\n",
        "                             verbose=1)\n",
        "\n",
        "history = model.fit_generator(train_gen,\n",
        "                              steps_per_epoch=train_gen.samples/train_gen.batch_size,\n",
        "                              validation_data=val_gen,\n",
        "                              validation_steps=val_gen.samples/val_gen.batch_size,\n",
        "                              epochs=n_epoch,\n",
        "                              callbacks=[checkpoint])"
      ],
      "execution_count": 16,
      "outputs": [
        {
          "output_type": "stream",
          "text": [
            "Epoch 1/30\n",
            "36/35 [==============================] - ETA: -1s - loss: 0.1323 - accuracy: 0.9712\n",
            "Epoch 00001: val_loss improved from inf to 0.21681, saving model to ./resnet50_batch64_sgd01m001.h5\n",
            "36/35 [==============================] - 350s 10s/step - loss: 0.1323 - accuracy: 0.9712 - val_loss: 0.2168 - val_accuracy: 0.9242\n",
            "Epoch 2/30\n",
            "36/35 [==============================] - ETA: -1s - loss: 0.1294 - accuracy: 0.9681\n",
            "Epoch 00002: val_loss did not improve from 0.21681\n",
            "36/35 [==============================] - 350s 10s/step - loss: 0.1294 - accuracy: 0.9681 - val_loss: 0.2206 - val_accuracy: 0.9194\n",
            "Epoch 3/30\n",
            "36/35 [==============================] - ETA: -1s - loss: 0.1263 - accuracy: 0.9742\n",
            "Epoch 00003: val_loss improved from 0.21681 to 0.21444, saving model to ./resnet50_batch64_sgd01m001.h5\n",
            "36/35 [==============================] - 351s 10s/step - loss: 0.1263 - accuracy: 0.9742 - val_loss: 0.2144 - val_accuracy: 0.9289\n",
            "Epoch 4/30\n",
            "36/35 [==============================] - ETA: -1s - loss: 0.1238 - accuracy: 0.9734\n",
            "Epoch 00004: val_loss did not improve from 0.21444\n",
            "36/35 [==============================] - 348s 10s/step - loss: 0.1238 - accuracy: 0.9734 - val_loss: 0.2206 - val_accuracy: 0.9242\n",
            "Epoch 5/30\n",
            "36/35 [==============================] - ETA: -1s - loss: 0.1209 - accuracy: 0.9756\n",
            "Epoch 00005: val_loss improved from 0.21444 to 0.21370, saving model to ./resnet50_batch64_sgd01m001.h5\n",
            "36/35 [==============================] - 351s 10s/step - loss: 0.1209 - accuracy: 0.9756 - val_loss: 0.2137 - val_accuracy: 0.9289\n",
            "Epoch 6/30\n",
            "36/35 [==============================] - ETA: -1s - loss: 0.1186 - accuracy: 0.9782\n",
            "Epoch 00006: val_loss did not improve from 0.21370\n",
            "36/35 [==============================] - 348s 10s/step - loss: 0.1186 - accuracy: 0.9782 - val_loss: 0.2286 - val_accuracy: 0.9100\n",
            "Epoch 7/30\n",
            "36/35 [==============================] - ETA: -1s - loss: 0.1164 - accuracy: 0.9786\n",
            "Epoch 00007: val_loss improved from 0.21370 to 0.21264, saving model to ./resnet50_batch64_sgd01m001.h5\n",
            "36/35 [==============================] - 349s 10s/step - loss: 0.1164 - accuracy: 0.9786 - val_loss: 0.2126 - val_accuracy: 0.9289\n",
            "Epoch 8/30\n",
            "36/35 [==============================] - ETA: -1s - loss: 0.1132 - accuracy: 0.9808\n",
            "Epoch 00008: val_loss improved from 0.21264 to 0.20945, saving model to ./resnet50_batch64_sgd01m001.h5\n",
            "36/35 [==============================] - 352s 10s/step - loss: 0.1132 - accuracy: 0.9808 - val_loss: 0.2095 - val_accuracy: 0.9289\n",
            "Epoch 9/30\n",
            "36/35 [==============================] - ETA: -1s - loss: 0.1114 - accuracy: 0.9821\n",
            "Epoch 00009: val_loss did not improve from 0.20945\n",
            "36/35 [==============================] - 349s 10s/step - loss: 0.1114 - accuracy: 0.9821 - val_loss: 0.2192 - val_accuracy: 0.9242\n",
            "Epoch 10/30\n",
            "36/35 [==============================] - ETA: -1s - loss: 0.1091 - accuracy: 0.9830\n",
            "Epoch 00010: val_loss did not improve from 0.20945\n",
            "36/35 [==============================] - 352s 10s/step - loss: 0.1091 - accuracy: 0.9830 - val_loss: 0.2209 - val_accuracy: 0.9242\n",
            "Epoch 11/30\n",
            "36/35 [==============================] - ETA: -1s - loss: 0.1072 - accuracy: 0.9817\n",
            "Epoch 00011: val_loss did not improve from 0.20945\n",
            "36/35 [==============================] - 348s 10s/step - loss: 0.1072 - accuracy: 0.9817 - val_loss: 0.2095 - val_accuracy: 0.9289\n",
            "Epoch 12/30\n",
            "36/35 [==============================] - ETA: -1s - loss: 0.1056 - accuracy: 0.9843\n",
            "Epoch 00012: val_loss did not improve from 0.20945\n",
            "36/35 [==============================] - 350s 10s/step - loss: 0.1056 - accuracy: 0.9843 - val_loss: 0.2107 - val_accuracy: 0.9289\n",
            "Epoch 13/30\n",
            "36/35 [==============================] - ETA: -1s - loss: 0.1035 - accuracy: 0.9856\n",
            "Epoch 00013: val_loss did not improve from 0.20945\n",
            "36/35 [==============================] - 351s 10s/step - loss: 0.1035 - accuracy: 0.9856 - val_loss: 0.2139 - val_accuracy: 0.9194\n",
            "Epoch 14/30\n",
            "36/35 [==============================] - ETA: -1s - loss: 0.1013 - accuracy: 0.9860\n",
            "Epoch 00014: val_loss did not improve from 0.20945\n",
            "36/35 [==============================] - 348s 10s/step - loss: 0.1013 - accuracy: 0.9860 - val_loss: 0.2147 - val_accuracy: 0.9194\n",
            "Epoch 15/30\n",
            "36/35 [==============================] - ETA: -1s - loss: 0.1001 - accuracy: 0.9860\n",
            "Epoch 00015: val_loss improved from 0.20945 to 0.20580, saving model to ./resnet50_batch64_sgd01m001.h5\n",
            "36/35 [==============================] - 351s 10s/step - loss: 0.1001 - accuracy: 0.9860 - val_loss: 0.2058 - val_accuracy: 0.9289\n",
            "Epoch 16/30\n",
            "36/35 [==============================] - ETA: -1s - loss: 0.0980 - accuracy: 0.9873\n",
            "Epoch 00016: val_loss did not improve from 0.20580\n",
            "36/35 [==============================] - 347s 10s/step - loss: 0.0980 - accuracy: 0.9873 - val_loss: 0.2089 - val_accuracy: 0.9242\n",
            "Epoch 17/30\n",
            "36/35 [==============================] - ETA: -1s - loss: 0.0964 - accuracy: 0.9865\n",
            "Epoch 00017: val_loss did not improve from 0.20580\n",
            "36/35 [==============================] - 350s 10s/step - loss: 0.0964 - accuracy: 0.9865 - val_loss: 0.2059 - val_accuracy: 0.9289\n",
            "Epoch 18/30\n",
            "36/35 [==============================] - ETA: -1s - loss: 0.0947 - accuracy: 0.9873\n",
            "Epoch 00018: val_loss improved from 0.20580 to 0.20526, saving model to ./resnet50_batch64_sgd01m001.h5\n",
            "36/35 [==============================] - 351s 10s/step - loss: 0.0947 - accuracy: 0.9873 - val_loss: 0.2053 - val_accuracy: 0.9336\n",
            "Epoch 19/30\n",
            "36/35 [==============================] - ETA: -1s - loss: 0.0931 - accuracy: 0.9891\n",
            "Epoch 00019: val_loss did not improve from 0.20526\n",
            "36/35 [==============================] - 347s 10s/step - loss: 0.0931 - accuracy: 0.9891 - val_loss: 0.2074 - val_accuracy: 0.9289\n",
            "Epoch 20/30\n",
            "36/35 [==============================] - ETA: -1s - loss: 0.0917 - accuracy: 0.9887\n",
            "Epoch 00020: val_loss improved from 0.20526 to 0.20265, saving model to ./resnet50_batch64_sgd01m001.h5\n",
            "36/35 [==============================] - 350s 10s/step - loss: 0.0917 - accuracy: 0.9887 - val_loss: 0.2026 - val_accuracy: 0.9194\n",
            "Epoch 21/30\n",
            "36/35 [==============================] - ETA: -1s - loss: 0.0902 - accuracy: 0.9895\n",
            "Epoch 00021: val_loss did not improve from 0.20265\n",
            "36/35 [==============================] - 346s 10s/step - loss: 0.0902 - accuracy: 0.9895 - val_loss: 0.2043 - val_accuracy: 0.9289\n",
            "Epoch 22/30\n",
            "36/35 [==============================] - ETA: -1s - loss: 0.0888 - accuracy: 0.9891\n",
            "Epoch 00022: val_loss did not improve from 0.20265\n",
            "36/35 [==============================] - 347s 10s/step - loss: 0.0888 - accuracy: 0.9891 - val_loss: 0.2062 - val_accuracy: 0.9147\n",
            "Epoch 23/30\n",
            "36/35 [==============================] - ETA: -1s - loss: 0.0869 - accuracy: 0.9900\n",
            "Epoch 00023: val_loss improved from 0.20265 to 0.19994, saving model to ./resnet50_batch64_sgd01m001.h5\n",
            "36/35 [==============================] - 346s 10s/step - loss: 0.0869 - accuracy: 0.9900 - val_loss: 0.1999 - val_accuracy: 0.9242\n",
            "Epoch 24/30\n",
            "36/35 [==============================] - ETA: -1s - loss: 0.0857 - accuracy: 0.9900\n",
            "Epoch 00024: val_loss did not improve from 0.19994\n",
            "36/35 [==============================] - 350s 10s/step - loss: 0.0857 - accuracy: 0.9900 - val_loss: 0.2031 - val_accuracy: 0.9289\n",
            "Epoch 25/30\n",
            "36/35 [==============================] - ETA: -1s - loss: 0.0847 - accuracy: 0.9904\n",
            "Epoch 00025: val_loss did not improve from 0.19994\n",
            "36/35 [==============================] - 350s 10s/step - loss: 0.0847 - accuracy: 0.9904 - val_loss: 0.2046 - val_accuracy: 0.9194\n",
            "Epoch 26/30\n",
            "36/35 [==============================] - ETA: -1s - loss: 0.0833 - accuracy: 0.9895\n",
            "Epoch 00026: val_loss improved from 0.19994 to 0.19868, saving model to ./resnet50_batch64_sgd01m001.h5\n",
            "36/35 [==============================] - 346s 10s/step - loss: 0.0833 - accuracy: 0.9895 - val_loss: 0.1987 - val_accuracy: 0.9289\n",
            "Epoch 27/30\n",
            "36/35 [==============================] - ETA: -1s - loss: 0.0823 - accuracy: 0.9913\n",
            "Epoch 00027: val_loss improved from 0.19868 to 0.19726, saving model to ./resnet50_batch64_sgd01m001.h5\n",
            "36/35 [==============================] - 349s 10s/step - loss: 0.0823 - accuracy: 0.9913 - val_loss: 0.1973 - val_accuracy: 0.9289\n",
            "Epoch 28/30\n",
            "36/35 [==============================] - ETA: -1s - loss: 0.0808 - accuracy: 0.9904\n",
            "Epoch 00028: val_loss improved from 0.19726 to 0.19200, saving model to ./resnet50_batch64_sgd01m001.h5\n",
            "36/35 [==============================] - 347s 10s/step - loss: 0.0808 - accuracy: 0.9904 - val_loss: 0.1920 - val_accuracy: 0.9336\n",
            "Epoch 29/30\n",
            "36/35 [==============================] - ETA: -1s - loss: 0.0800 - accuracy: 0.9913\n",
            "Epoch 00029: val_loss did not improve from 0.19200\n",
            "36/35 [==============================] - 348s 10s/step - loss: 0.0800 - accuracy: 0.9913 - val_loss: 0.2005 - val_accuracy: 0.9289\n",
            "Epoch 30/30\n",
            "36/35 [==============================] - ETA: -1s - loss: 0.0786 - accuracy: 0.9921\n",
            "Epoch 00030: val_loss did not improve from 0.19200\n",
            "36/35 [==============================] - 348s 10s/step - loss: 0.0786 - accuracy: 0.9921 - val_loss: 0.2039 - val_accuracy: 0.9289\n"
          ],
          "name": "stdout"
        }
      ]
    },
    {
      "cell_type": "code",
      "metadata": {
        "id": "Rm2QS5HWnbob",
        "colab_type": "code",
        "colab": {
          "base_uri": "https://localhost:8080/",
          "height": 352
        },
        "outputId": "d312e41c-d605-461e-bef3-667449692a16"
      },
      "source": [
        "import matplotlib.pyplot as plt\n",
        "import seaborn as sns\n",
        "\n",
        "val_acc = history.history['val_accuracy']\n",
        "val_loss = history.history['val_loss']\n",
        "acc = history.history['accuracy']\n",
        "loss = history.history['loss']\n",
        "\n",
        "plt.plot(range(n_epoch), acc, 'b*-', label = 'Training accuracy')\n",
        "plt.plot(range(n_epoch), val_acc, 'r', label = 'Validation accuracy')\n",
        "plt.title('Training and validation accuracy')\n",
        "plt.legend()"
      ],
      "execution_count": 17,
      "outputs": [
        {
          "output_type": "stream",
          "text": [
            "/usr/local/lib/python3.6/dist-packages/statsmodels/tools/_testing.py:19: FutureWarning: pandas.util.testing is deprecated. Use the functions in the public API at pandas.testing instead.\n",
            "  import pandas.util.testing as tm\n"
          ],
          "name": "stderr"
        },
        {
          "output_type": "execute_result",
          "data": {
            "text/plain": [
              "<matplotlib.legend.Legend at 0x7fce43f71780>"
            ]
          },
          "metadata": {
            "tags": []
          },
          "execution_count": 17
        },
        {
          "output_type": "display_data",
          "data": {
            "image/png": "[encoded data removed]",
            "text/plain": [
              "<Figure size 432x288 with 1 Axes>"
            ]
          },
          "metadata": {
            "tags": [],
            "needs_background": "light"
          }
        }
      ]
    },
    {
      "cell_type": "markdown",
      "metadata": {
        "id": "Qzi46dNhoAvl",
        "colab_type": "text"
      },
      "source": [
        "Test Model"
      ]
    },
    {
      "cell_type": "code",
      "metadata": {
        "id": "cryTURNRoG8e",
        "colab_type": "code",
        "colab": {
          "base_uri": "https://localhost:8080/",
          "height": 34
        },
        "outputId": "4485b72c-2f0f-4f30-baa2-a006f311a477"
      },
      "source": [
        "data_path = \"/content/drive/My Drive/Bangk!t/Training Data/Final Project\"\n",
        "\n",
        "data_generator = ImageDataGenerator(preprocessing_function=preprocess_input)\n",
        "\n",
        "test_gen = data_generator.flow_from_directory(data_path + '/test',\n",
        "                                              target_size=(img_shape, img_shape),\n",
        "                                              batch_size=1,\n",
        "                                              class_mode='categorical',\n",
        "                                              shuffle=False)"
      ],
      "execution_count": 19,
      "outputs": [
        {
          "output_type": "stream",
          "text": [
            "Found 55 images belonging to 6 classes.\n"
          ],
          "name": "stdout"
        }
      ]
    },
    {
      "cell_type": "code",
      "metadata": {
        "id": "NkBQGveuoWHo",
        "colab_type": "code",
        "colab": {
          "base_uri": "https://localhost:8080/",
          "height": 221
        },
        "outputId": "0317277a-db2a-4454-d4a2-c90f3f185ecb"
      },
      "source": [
        "from tensorflow.keras.models import load_model\n",
        "import numpy as np\n",
        "\n",
        "eval_model = load_model('./' + model_name + '.h5')\n",
        "eval_model.summary()"
      ],
      "execution_count": 20,
      "outputs": [
        {
          "output_type": "stream",
          "text": [
            "Model: \"sequential_1\"\n",
            "_________________________________________________________________\n",
            "Layer (type)                 Output Shape              Param #   \n",
            "=================================================================\n",
            "resnet50 (Model)             (None, 2048)              23587712  \n",
            "_________________________________________________________________\n",
            "dense_1 (Dense)              (None, 6)                 12294     \n",
            "=================================================================\n",
            "Total params: 23,600,006\n",
            "Trainable params: 12,294\n",
            "Non-trainable params: 23,587,712\n",
            "_________________________________________________________________\n"
          ],
          "name": "stdout"
        }
      ]
    },
    {
      "cell_type": "code",
      "metadata": {
        "id": "1dzPDTATohag",
        "colab_type": "code",
        "colab": {
          "base_uri": "https://localhost:8080/",
          "height": 659
        },
        "outputId": "8d9c18ec-1e31-44d1-f5ad-c492c64ed27b"
      },
      "source": [
        "from sklearn.metrics import classification_report, confusion_matrix\n",
        "\n",
        "y_pred = eval_model.predict_generator(test_gen)\n",
        "y_pred = np.argmax(y_pred, axis=1)\n",
        "\n",
        "print(classification_report(test_gen.classes, y_pred))\n",
        "\n",
        "cf_matrix = confusion_matrix(test_gen.classes, y_pred)\n",
        "\n",
        "plt.figure(figsize=(8,5))\n",
        "heatmap = sns.heatmap(cf_matrix, annot=True, fmt='d', color='blue')\n",
        "plt.xlabel('Predicted class')\n",
        "plt.ylabel('True class')\n",
        "plt.title('Confusion matrix of model')\n"
      ],
      "execution_count": 22,
      "outputs": [
        {
          "output_type": "stream",
          "text": [
            "WARNING:tensorflow:From <ipython-input-22-43c862c6634a>:3: Model.predict_generator (from tensorflow.python.keras.engine.training) is deprecated and will be removed in a future version.\n",
            "Instructions for updating:\n",
            "Please use Model.predict, which supports generators.\n",
            "              precision    recall  f1-score   support\n",
            "\n",
            "           0       1.00      1.00      1.00        10\n",
            "           1       0.83      1.00      0.91        10\n",
            "           2       0.82      0.90      0.86        10\n",
            "           3       0.80      0.80      0.80        10\n",
            "           4       0.78      0.70      0.74        10\n",
            "           5       1.00      0.60      0.75         5\n",
            "\n",
            "    accuracy                           0.85        55\n",
            "   macro avg       0.87      0.83      0.84        55\n",
            "weighted avg       0.86      0.85      0.85        55\n",
            "\n"
          ],
          "name": "stdout"
        },
        {
          "output_type": "execute_result",
          "data": {
            "text/plain": [
              "Text(0.5, 1.0, 'Confusion matrix of model')"
            ]
          },
          "metadata": {
            "tags": []
          },
          "execution_count": 22
        },
        {
          "output_type": "display_data",
          "data": {
            "image/png": "[encoded data removed]",
            "text/plain": [
              "<Figure size 576x360 with 2 Axes>"
            ]
          },
          "metadata": {
            "tags": [],
            "needs_background": "light"
          }
        }
      ]
    }
  ]
}